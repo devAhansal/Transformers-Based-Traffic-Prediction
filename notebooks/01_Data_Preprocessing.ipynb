{
 "cells": [
  {
   "cell_type": "markdown",
   "metadata": {},
   "source": [
    "### 1. Chargement des données"
   ]
  },
  {
   "cell_type": "code",
   "execution_count": 57,
   "metadata": {},
   "outputs": [
    {
     "name": "stdout",
     "output_type": "stream",
     "text": [
      "   frame_id  object_id object_type   position_x  position_y  position_z  \\\n",
      "0         0          1         car    42.413399  447.133240           0   \n",
      "1         0          2       truck   559.396484  408.111084           0   \n",
      "2         0          3         car   949.831665  449.853577           0   \n",
      "3         0          4       truck  1128.651611  482.465698           0   \n",
      "4         0          5         car    78.321663  407.437103           0   \n",
      "\n",
      "   object_length  object_width  object_height  heading  \n",
      "0     146.383789     84.674820     146.383789        0  \n",
      "1     330.613159    327.418701     330.613159        0  \n",
      "2     227.213135    299.005615     227.213135        0  \n",
      "3     440.587402    300.836426     440.587402        0  \n",
      "4      59.155579    104.996628      59.155579        0  \n",
      "<class 'pandas.core.frame.DataFrame'>\n",
      "RangeIndex: 9959 entries, 0 to 9958\n",
      "Data columns (total 10 columns):\n",
      " #   Column         Non-Null Count  Dtype  \n",
      "---  ------         --------------  -----  \n",
      " 0   frame_id       9959 non-null   int64  \n",
      " 1   object_id      9959 non-null   int64  \n",
      " 2   object_type    9959 non-null   object \n",
      " 3   position_x     9959 non-null   float64\n",
      " 4   position_y     9959 non-null   float64\n",
      " 5   position_z     9959 non-null   int64  \n",
      " 6   object_length  9959 non-null   float64\n",
      " 7   object_width   9959 non-null   float64\n",
      " 8   object_height  9959 non-null   float64\n",
      " 9   heading        9959 non-null   int64  \n",
      "dtypes: float64(5), int64(4), object(1)\n",
      "memory usage: 778.2+ KB\n",
      "None\n"
     ]
    },
    {
     "name": "stderr",
     "output_type": "stream",
     "text": [
      "<>:4: SyntaxWarning: invalid escape sequence '\\d'\n",
      "<>:4: SyntaxWarning: invalid escape sequence '\\d'\n",
      "C:\\Users\\Beeclick\\AppData\\Local\\Temp\\ipykernel_6832\\3202681527.py:4: SyntaxWarning: invalid escape sequence '\\d'\n",
      "  data = pd.read_csv(\"run\\detection_results.csv\")\n"
     ]
    }
   ],
   "source": [
    "import pandas as pd\n",
    "\n",
    "# Charger les données\n",
    "data = pd.read_csv(\"run\\detection_results.csv\")\n",
    "\n",
    "# Afficher les premières lignes\n",
    "print(data.head())\n",
    "\n",
    "# Informations sur les données\n",
    "print(data.info())"
   ]
  },
  {
   "cell_type": "markdown",
   "metadata": {},
   "source": [
    "### 2. Nettoyage des données"
   ]
  },
  {
   "cell_type": "code",
   "execution_count": 58,
   "metadata": {},
   "outputs": [
    {
     "name": "stdout",
     "output_type": "stream",
     "text": [
      "frame_id         0\n",
      "object_id        0\n",
      "object_type      0\n",
      "position_x       0\n",
      "position_y       0\n",
      "position_z       0\n",
      "object_length    0\n",
      "object_width     0\n",
      "object_height    0\n",
      "heading          0\n",
      "dtype: int64\n"
     ]
    }
   ],
   "source": [
    "# Vérifier les valeurs manquantes\n",
    "print(data.isnull().sum())"
   ]
  },
  {
   "cell_type": "code",
   "execution_count": 59,
   "metadata": {},
   "outputs": [],
   "source": [
    "# Remplacer ou supprimer les valeurs manquantes\n",
    "data = data.fillna(0)  # Remplacer par 0 ou une autre valeur appropriée"
   ]
  },
  {
   "cell_type": "code",
   "execution_count": 60,
   "metadata": {},
   "outputs": [
    {
     "name": "stdout",
     "output_type": "stream",
     "text": [
      "0\n"
     ]
    }
   ],
   "source": [
    "# Vérifier les doublons\n",
    "print(data.duplicated().sum())"
   ]
  },
  {
   "cell_type": "code",
   "execution_count": 61,
   "metadata": {},
   "outputs": [],
   "source": [
    "# Supprimer les doublons \n",
    "data = data.drop_duplicates()"
   ]
  },
  {
   "cell_type": "code",
   "execution_count": 62,
   "metadata": {},
   "outputs": [
    {
     "data": {
      "image/png": "[encoded data removed]",
      "text/plain": [
       "<Figure size 1000x500 with 2 Axes>"
      ]
     },
     "metadata": {},
     "output_type": "display_data"
    }
   ],
   "source": [
    "# Détecter les valeurs aberrantes\n",
    "import matplotlib.pyplot as plt\n",
    "\n",
    "# Visualiser les distributions\n",
    "data[[\"position_x\", \"position_y\"]].hist(bins=50, figsize=(10, 5))\n",
    "plt.show()"
   ]
  },
  {
   "cell_type": "markdown",
   "metadata": {},
   "source": [
    "### 3. Normalisation des données"
   ]
  },
  {
   "cell_type": "code",
   "execution_count": 63,
   "metadata": {},
   "outputs": [
    {
     "name": "stdout",
     "output_type": "stream",
     "text": [
      "   frame_id  object_id object_type  position_x  position_y  position_z  \\\n",
      "0         0          1         car    0.027931    0.656311         0.0   \n",
      "1         0          2       truck    0.436653    0.596980         0.0   \n",
      "2         0          3         car    0.745327    0.660447         0.0   \n",
      "3         0          4       truck    0.886700    0.710032         0.0   \n",
      "4         0          5         car    0.056320    0.595955         0.0   \n",
      "\n",
      "   object_length  object_width  object_height  heading  \n",
      "0       0.230177      0.056329       0.230177        0  \n",
      "1       0.563665      0.250263       0.563665        0  \n",
      "2       0.376492      0.227563       0.376492        0  \n",
      "3       0.762738      0.229026       0.762738        0  \n",
      "4       0.072279      0.072565       0.072279        0  \n"
     ]
    }
   ],
   "source": [
    "from sklearn.preprocessing import MinMaxScaler\n",
    "\n",
    "# Colonnes à normaliser\n",
    "columns_to_normalize = [\"position_x\", \"position_y\", \"position_z\", \"object_length\", \"object_width\", \"object_height\"]\n",
    "\n",
    "# Appliquer la normalisation\n",
    "scaler = MinMaxScaler()\n",
    "data[columns_to_normalize] = scaler.fit_transform(data[columns_to_normalize])\n",
    "\n",
    "# Afficher les données normalisées\n",
    "print(data.head())"
   ]
  },
  {
   "cell_type": "markdown",
   "metadata": {},
   "source": [
    "### 4. Encodage des caractéristiques catégorielles"
   ]
  },
  {
   "cell_type": "code",
   "execution_count": 64,
   "metadata": {},
   "outputs": [
    {
     "data": {
      "text/html": [
       "<div>\n",
       "<style scoped>\n",
       "    .dataframe tbody tr th:only-of-type {\n",
       "        vertical-align: middle;\n",
       "    }\n",
       "\n",
       "    .dataframe tbody tr th {\n",
       "        vertical-align: top;\n",
       "    }\n",
       "\n",
       "    .dataframe thead th {\n",
       "        text-align: right;\n",
       "    }\n",
       "</style>\n",
       "<table border=\"1\" class=\"dataframe\">\n",
       "  <thead>\n",
       "    <tr style=\"text-align: right;\">\n",
       "      <th></th>\n",
       "      <th>frame_id</th>\n",
       "      <th>object_id</th>\n",
       "      <th>position_x</th>\n",
       "      <th>position_y</th>\n",
       "      <th>position_z</th>\n",
       "      <th>object_length</th>\n",
       "      <th>object_width</th>\n",
       "      <th>object_height</th>\n",
       "      <th>heading</th>\n",
       "      <th>type_backpack</th>\n",
       "      <th>type_bench</th>\n",
       "      <th>type_bus</th>\n",
       "      <th>type_car</th>\n",
       "      <th>type_handbag</th>\n",
       "      <th>type_person</th>\n",
       "      <th>type_potted plant</th>\n",
       "      <th>type_skateboard</th>\n",
       "      <th>type_traffic light</th>\n",
       "      <th>type_train</th>\n",
       "      <th>type_truck</th>\n",
       "    </tr>\n",
       "  </thead>\n",
       "  <tbody>\n",
       "    <tr>\n",
       "      <th>0</th>\n",
       "      <td>0</td>\n",
       "      <td>1</td>\n",
       "      <td>0.027931</td>\n",
       "      <td>0.656311</td>\n",
       "      <td>0.0</td>\n",
       "      <td>0.230177</td>\n",
       "      <td>0.056329</td>\n",
       "      <td>0.230177</td>\n",
       "      <td>0</td>\n",
       "      <td>False</td>\n",
       "      <td>False</td>\n",
       "      <td>False</td>\n",
       "      <td>True</td>\n",
       "      <td>False</td>\n",
       "      <td>False</td>\n",
       "      <td>False</td>\n",
       "      <td>False</td>\n",
       "      <td>False</td>\n",
       "      <td>False</td>\n",
       "      <td>False</td>\n",
       "    </tr>\n",
       "    <tr>\n",
       "      <th>1</th>\n",
       "      <td>0</td>\n",
       "      <td>2</td>\n",
       "      <td>0.436653</td>\n",
       "      <td>0.596980</td>\n",
       "      <td>0.0</td>\n",
       "      <td>0.563665</td>\n",
       "      <td>0.250263</td>\n",
       "      <td>0.563665</td>\n",
       "      <td>0</td>\n",
       "      <td>False</td>\n",
       "      <td>False</td>\n",
       "      <td>False</td>\n",
       "      <td>False</td>\n",
       "      <td>False</td>\n",
       "      <td>False</td>\n",
       "      <td>False</td>\n",
       "      <td>False</td>\n",
       "      <td>False</td>\n",
       "      <td>False</td>\n",
       "      <td>True</td>\n",
       "    </tr>\n",
       "    <tr>\n",
       "      <th>2</th>\n",
       "      <td>0</td>\n",
       "      <td>3</td>\n",
       "      <td>0.745327</td>\n",
       "      <td>0.660447</td>\n",
       "      <td>0.0</td>\n",
       "      <td>0.376492</td>\n",
       "      <td>0.227563</td>\n",
       "      <td>0.376492</td>\n",
       "      <td>0</td>\n",
       "      <td>False</td>\n",
       "      <td>False</td>\n",
       "      <td>False</td>\n",
       "      <td>True</td>\n",
       "      <td>False</td>\n",
       "      <td>False</td>\n",
       "      <td>False</td>\n",
       "      <td>False</td>\n",
       "      <td>False</td>\n",
       "      <td>False</td>\n",
       "      <td>False</td>\n",
       "    </tr>\n",
       "    <tr>\n",
       "      <th>3</th>\n",
       "      <td>0</td>\n",
       "      <td>4</td>\n",
       "      <td>0.886700</td>\n",
       "      <td>0.710032</td>\n",
       "      <td>0.0</td>\n",
       "      <td>0.762738</td>\n",
       "      <td>0.229026</td>\n",
       "      <td>0.762738</td>\n",
       "      <td>0</td>\n",
       "      <td>False</td>\n",
       "      <td>False</td>\n",
       "      <td>False</td>\n",
       "      <td>False</td>\n",
       "      <td>False</td>\n",
       "      <td>False</td>\n",
       "      <td>False</td>\n",
       "      <td>False</td>\n",
       "      <td>False</td>\n",
       "      <td>False</td>\n",
       "      <td>True</td>\n",
       "    </tr>\n",
       "    <tr>\n",
       "      <th>4</th>\n",
       "      <td>0</td>\n",
       "      <td>5</td>\n",
       "      <td>0.056320</td>\n",
       "      <td>0.595955</td>\n",
       "      <td>0.0</td>\n",
       "      <td>0.072279</td>\n",
       "      <td>0.072565</td>\n",
       "      <td>0.072279</td>\n",
       "      <td>0</td>\n",
       "      <td>False</td>\n",
       "      <td>False</td>\n",
       "      <td>False</td>\n",
       "      <td>True</td>\n",
       "      <td>False</td>\n",
       "      <td>False</td>\n",
       "      <td>False</td>\n",
       "      <td>False</td>\n",
       "      <td>False</td>\n",
       "      <td>False</td>\n",
       "      <td>False</td>\n",
       "    </tr>\n",
       "  </tbody>\n",
       "</table>\n",
       "</div>"
      ],
      "text/plain": [
       "   frame_id  object_id  position_x  position_y  position_z  object_length  \\\n",
       "0         0          1    0.027931    0.656311         0.0       0.230177   \n",
       "1         0          2    0.436653    0.596980         0.0       0.563665   \n",
       "2         0          3    0.745327    0.660447         0.0       0.376492   \n",
       "3         0          4    0.886700    0.710032         0.0       0.762738   \n",
       "4         0          5    0.056320    0.595955         0.0       0.072279   \n",
       "\n",
       "   object_width  object_height  heading  type_backpack  type_bench  type_bus  \\\n",
       "0      0.056329       0.230177        0          False       False     False   \n",
       "1      0.250263       0.563665        0          False       False     False   \n",
       "2      0.227563       0.376492        0          False       False     False   \n",
       "3      0.229026       0.762738        0          False       False     False   \n",
       "4      0.072565       0.072279        0          False       False     False   \n",
       "\n",
       "   type_car  type_handbag  type_person  type_potted plant  type_skateboard  \\\n",
       "0      True         False        False              False            False   \n",
       "1     False         False        False              False            False   \n",
       "2      True         False        False              False            False   \n",
       "3     False         False        False              False            False   \n",
       "4      True         False        False              False            False   \n",
       "\n",
       "   type_traffic light  type_train  type_truck  \n",
       "0               False       False       False  \n",
       "1               False       False        True  \n",
       "2               False       False       False  \n",
       "3               False       False        True  \n",
       "4               False       False       False  "
      ]
     },
     "execution_count": 64,
     "metadata": {},
     "output_type": "execute_result"
    }
   ],
   "source": [
    "# Encodage one-hot pour object_type\n",
    "data = pd.get_dummies(data, columns=[\"object_type\"], prefix=\"type\")\n",
    "\n",
    "# Afficher les données encodées\n",
    "data.head()"
   ]
  },
  {
   "cell_type": "markdown",
   "metadata": {},
   "source": [
    "### 5. Regroupement des données par object_id"
   ]
  },
  {
   "cell_type": "code",
   "execution_count": 77,
   "metadata": {},
   "outputs": [
    {
     "data": {
      "text/html": [
       "<div>\n",
       "<style scoped>\n",
       "    .dataframe tbody tr th:only-of-type {\n",
       "        vertical-align: middle;\n",
       "    }\n",
       "\n",
       "    .dataframe tbody tr th {\n",
       "        vertical-align: top;\n",
       "    }\n",
       "\n",
       "    .dataframe thead th {\n",
       "        text-align: right;\n",
       "    }\n",
       "</style>\n",
       "<table border=\"1\" class=\"dataframe\">\n",
       "  <thead>\n",
       "    <tr style=\"text-align: right;\">\n",
       "      <th></th>\n",
       "      <th>frame_id</th>\n",
       "      <th>object_id</th>\n",
       "      <th>position_x</th>\n",
       "      <th>position_y</th>\n",
       "      <th>position_z</th>\n",
       "      <th>object_length</th>\n",
       "      <th>object_width</th>\n",
       "      <th>object_height</th>\n",
       "      <th>heading</th>\n",
       "      <th>type_backpack</th>\n",
       "      <th>type_bench</th>\n",
       "      <th>type_bus</th>\n",
       "      <th>type_car</th>\n",
       "      <th>type_handbag</th>\n",
       "      <th>type_person</th>\n",
       "      <th>type_potted plant</th>\n",
       "      <th>type_skateboard</th>\n",
       "      <th>type_traffic light</th>\n",
       "      <th>type_train</th>\n",
       "      <th>type_truck</th>\n",
       "    </tr>\n",
       "  </thead>\n",
       "  <tbody>\n",
       "    <tr>\n",
       "      <th>0</th>\n",
       "      <td>209</td>\n",
       "      <td>-1</td>\n",
       "      <td>0.945574</td>\n",
       "      <td>0.613374</td>\n",
       "      <td>0.0</td>\n",
       "      <td>0.027097</td>\n",
       "      <td>0.036975</td>\n",
       "      <td>0.027097</td>\n",
       "      <td>0</td>\n",
       "      <td>False</td>\n",
       "      <td>False</td>\n",
       "      <td>False</td>\n",
       "      <td>True</td>\n",
       "      <td>False</td>\n",
       "      <td>False</td>\n",
       "      <td>False</td>\n",
       "      <td>False</td>\n",
       "      <td>False</td>\n",
       "      <td>False</td>\n",
       "      <td>False</td>\n",
       "    </tr>\n",
       "    <tr>\n",
       "      <th>1</th>\n",
       "      <td>209</td>\n",
       "      <td>-1</td>\n",
       "      <td>0.557710</td>\n",
       "      <td>0.741480</td>\n",
       "      <td>0.0</td>\n",
       "      <td>0.198345</td>\n",
       "      <td>0.885919</td>\n",
       "      <td>0.198345</td>\n",
       "      <td>0</td>\n",
       "      <td>False</td>\n",
       "      <td>False</td>\n",
       "      <td>False</td>\n",
       "      <td>False</td>\n",
       "      <td>False</td>\n",
       "      <td>False</td>\n",
       "      <td>False</td>\n",
       "      <td>False</td>\n",
       "      <td>False</td>\n",
       "      <td>True</td>\n",
       "      <td>False</td>\n",
       "    </tr>\n",
       "    <tr>\n",
       "      <th>2</th>\n",
       "      <td>210</td>\n",
       "      <td>-1</td>\n",
       "      <td>0.924228</td>\n",
       "      <td>0.608925</td>\n",
       "      <td>0.0</td>\n",
       "      <td>0.026469</td>\n",
       "      <td>0.033951</td>\n",
       "      <td>0.026469</td>\n",
       "      <td>0</td>\n",
       "      <td>False</td>\n",
       "      <td>False</td>\n",
       "      <td>False</td>\n",
       "      <td>True</td>\n",
       "      <td>False</td>\n",
       "      <td>False</td>\n",
       "      <td>False</td>\n",
       "      <td>False</td>\n",
       "      <td>False</td>\n",
       "      <td>False</td>\n",
       "      <td>False</td>\n",
       "    </tr>\n",
       "    <tr>\n",
       "      <th>3</th>\n",
       "      <td>210</td>\n",
       "      <td>-1</td>\n",
       "      <td>0.987605</td>\n",
       "      <td>0.584173</td>\n",
       "      <td>0.0</td>\n",
       "      <td>0.005150</td>\n",
       "      <td>0.016850</td>\n",
       "      <td>0.005150</td>\n",
       "      <td>0</td>\n",
       "      <td>False</td>\n",
       "      <td>False</td>\n",
       "      <td>False</td>\n",
       "      <td>True</td>\n",
       "      <td>False</td>\n",
       "      <td>False</td>\n",
       "      <td>False</td>\n",
       "      <td>False</td>\n",
       "      <td>False</td>\n",
       "      <td>False</td>\n",
       "      <td>False</td>\n",
       "    </tr>\n",
       "    <tr>\n",
       "      <th>4</th>\n",
       "      <td>210</td>\n",
       "      <td>-1</td>\n",
       "      <td>0.960703</td>\n",
       "      <td>0.597952</td>\n",
       "      <td>0.0</td>\n",
       "      <td>0.002067</td>\n",
       "      <td>0.010665</td>\n",
       "      <td>0.002067</td>\n",
       "      <td>0</td>\n",
       "      <td>False</td>\n",
       "      <td>False</td>\n",
       "      <td>False</td>\n",
       "      <td>True</td>\n",
       "      <td>False</td>\n",
       "      <td>False</td>\n",
       "      <td>False</td>\n",
       "      <td>False</td>\n",
       "      <td>False</td>\n",
       "      <td>False</td>\n",
       "      <td>False</td>\n",
       "    </tr>\n",
       "  </tbody>\n",
       "</table>\n",
       "</div>"
      ],
      "text/plain": [
       "   frame_id  object_id  position_x  position_y  position_z  object_length  \\\n",
       "0       209         -1    0.945574    0.613374         0.0       0.027097   \n",
       "1       209         -1    0.557710    0.741480         0.0       0.198345   \n",
       "2       210         -1    0.924228    0.608925         0.0       0.026469   \n",
       "3       210         -1    0.987605    0.584173         0.0       0.005150   \n",
       "4       210         -1    0.960703    0.597952         0.0       0.002067   \n",
       "\n",
       "   object_width  object_height  heading  type_backpack  type_bench  type_bus  \\\n",
       "0      0.036975       0.027097        0          False       False     False   \n",
       "1      0.885919       0.198345        0          False       False     False   \n",
       "2      0.033951       0.026469        0          False       False     False   \n",
       "3      0.016850       0.005150        0          False       False     False   \n",
       "4      0.010665       0.002067        0          False       False     False   \n",
       "\n",
       "   type_car  type_handbag  type_person  type_potted plant  type_skateboard  \\\n",
       "0      True         False        False              False            False   \n",
       "1     False         False        False              False            False   \n",
       "2      True         False        False              False            False   \n",
       "3      True         False        False              False            False   \n",
       "4      True         False        False              False            False   \n",
       "\n",
       "   type_traffic light  type_train  type_truck  \n",
       "0               False       False       False  \n",
       "1               False        True       False  \n",
       "2               False       False       False  \n",
       "3               False       False       False  \n",
       "4               False       False       False  "
      ]
     },
     "execution_count": 77,
     "metadata": {},
     "output_type": "execute_result"
    }
   ],
   "source": [
    "# Trier les données par object_id et frame_id\n",
    "data_sorted = data.sort_values(by=[\"object_id\", \"frame_id\"])\n",
    "data_sorted.reset_index(inplace = True)\n",
    "data_sorted.drop([\"index\"], axis = 1, inplace = True)\n",
    "\n",
    "data_sorted.to_csv(\"data/data_sorted.csv\", index=False)\n",
    "\n",
    "# Afficher les données triées\n",
    "data_sorted.head()\n",
    "\n"
   ]
  },
  {
   "cell_type": "markdown",
   "metadata": {},
   "source": [
    "### 5. Séparation des données"
   ]
  },
  {
   "cell_type": "code",
   "execution_count": 66,
   "metadata": {},
   "outputs": [
    {
     "name": "stdout",
     "output_type": "stream",
     "text": [
      "Train set: (6971, 17) (6971, 2)\n",
      "Validation set: (1494, 17) (1494, 2)\n",
      "Test set: (1494, 17) (1494, 2)\n"
     ]
    }
   ],
   "source": [
    "from sklearn.model_selection import train_test_split\n",
    "\n",
    "# Séparer les caractéristiques (X) et les étiquettes (y)\n",
    "X = data.drop(columns=[\"frame_id\", \"object_id\", \"heading\"])  # Exclure les colonnes non pertinentes\n",
    "y = data[[\"position_x\", \"position_y\"]]  # Cibles à prédire\n",
    "\n",
    "# Diviser les données\n",
    "X_train, X_temp, y_train, y_temp = train_test_split(X, y, test_size=0.3, random_state=42)\n",
    "X_val, X_test, y_val, y_test = train_test_split(X_temp, y_temp, test_size=0.5, random_state=42)\n",
    "\n",
    "# Afficher les tailles des ensembles\n",
    "print(\"Train set:\", X_train.shape, y_train.shape)\n",
    "print(\"Validation set:\", X_val.shape, y_val.shape)\n",
    "print(\"Test set:\", X_test.shape, y_test.shape)"
   ]
  },
  {
   "cell_type": "markdown",
   "metadata": {},
   "source": [
    "### 6. Sauvegarde des données prétraitées"
   ]
  },
  {
   "cell_type": "code",
   "execution_count": 67,
   "metadata": {},
   "outputs": [
    {
     "name": "stdout",
     "output_type": "stream",
     "text": [
      "Données prétraitées sauvegardées.\n"
     ]
    }
   ],
   "source": [
    "# Sauvegarder les ensembles de données\n",
    "X_train.to_csv(\"data/X_train.csv\", index=False)\n",
    "y_train.to_csv(\"data/y_train.csv\", index=False)\n",
    "X_val.to_csv(\"data/X_val.csv\", index=False)\n",
    "y_val.to_csv(\"data/y_val.csv\", index=False)\n",
    "X_test.to_csv(\"data/X_test.csv\", index=False)\n",
    "y_test.to_csv(\"data/y_test.csv\", index=False)\n",
    "\n",
    "print(\"Données prétraitées sauvegardées.\")"
   ]
  },
  {
   "cell_type": "code",
   "execution_count": null,
   "metadata": {},
   "outputs": [],
   "source": []
  }
 ],
 "metadata": {
  "kernelspec": {
   "display_name": "env",
   "language": "python",
   "name": "python3"
  },
  "language_info": {
   "codemirror_mode": {
    "name": "ipython",
    "version": 3
   },
   "file_extension": ".py",
   "mimetype": "text/x-python",
   "name": "python",
   "nbconvert_exporter": "python",
   "pygments_lexer": "ipython3",
   "version": "3.12.4"
  }
 },
 "nbformat": 4,
 "nbformat_minor": 2
}
