{
 "cells": [
  {
   "attachments": {},
   "cell_type": "markdown",
   "metadata": {},
   "source": [
    "## **Importations :**\n",
    "<div style=\"border-bottom: 4px solid blue; margin-bottom: 20px;\"></div>"
   ]
  },
  {
   "cell_type": "code",
   "execution_count": 1,
   "metadata": {},
   "outputs": [],
   "source": [
    "import pandas as pd\n",
    "import torch\n",
    "import torch.nn as nn\n",
    "import torch.optim as optim\n",
    "import math\n",
    "from sklearn.model_selection import train_test_split\n",
    "from torch.utils.data import DataLoader, Dataset, TensorDataset\n"
   ]
  },
  {
   "cell_type": "code",
   "execution_count": 2,
   "metadata": {},
   "outputs": [],
   "source": [
    "device = 'cuda' if torch.cuda.is_available() else 'cpu'"
   ]
  },
  {
   "attachments": {},
   "cell_type": "markdown",
   "metadata": {},
   "source": [
    "## **Creation des dataloaders**\n",
    "<div style=\"border-bottom: 4px solid blue; margin-bottom: 20px;\"></div>"
   ]
  },
  {
   "attachments": {},
   "cell_type": "markdown",
   "metadata": {},
   "source": [
    "#### 1. charger les données"
   ]
  },
  {
   "cell_type": "code",
   "execution_count": 3,
   "metadata": {},
   "outputs": [],
   "source": [
    "def load_data(input_file, output_file):\n",
    "    input_sequences = pd.read_csv(input_file)\n",
    "    output_sequences = pd.read_csv(output_file)\n",
    "    return input_sequences, output_sequences\n"
   ]
  },
  {
   "attachments": {},
   "cell_type": "markdown",
   "metadata": {},
   "source": [
    "#### 2. Division les données"
   ]
  },
  {
   "cell_type": "code",
   "execution_count": 4,
   "metadata": {},
   "outputs": [],
   "source": [
    "### Préparer les données pour Transformers\n",
    "def prepare_transformer_data(input_sequences, output_sequences, test_size=0.2, val_size=0.1, random_state=42):\n",
    "    video_object_ids = input_sequences.iloc[:, :2].values  # `video_id`, `object_id`\n",
    "\n",
    "    # Extraire les séquences d'entrée et de sortie\n",
    "    X = input_sequences.iloc[:, 2:].values  # Frames pour l'encodage\n",
    "    y = output_sequences.iloc[:, 2:].values  # Frames pour le décodage\n",
    "\n",
    "    # Diviser les données en ensembles d'entraînement, validation et test\n",
    "    X_train_val, X_test, y_train_val, y_test, ids_train_val, ids_test = train_test_split(\n",
    "        X, y, video_object_ids, test_size=test_size, random_state=random_state\n",
    "    )\n",
    "    X_train, X_val, y_train, y_val, ids_train, ids_val = train_test_split(\n",
    "        X_train_val, y_train_val, ids_train_val, test_size=val_size, random_state=random_state\n",
    "    )\n",
    "\n",
    "    return X_train, X_val, X_test, y_train, y_val, y_test, ids_train, ids_val, ids_test\n"
   ]
  },
  {
   "attachments": {},
   "cell_type": "markdown",
   "metadata": {},
   "source": [
    "#### 3. Creation d'un dataset personnalisé\n",
    "    ✅ Organisation structurée \n",
    "    ✅ Compatibilité avec PyTorch "
   ]
  },
  {
   "cell_type": "code",
   "execution_count": 5,
   "metadata": {},
   "outputs": [],
   "source": [
    "class VideoDataset(Dataset):\n",
    "    def __init__(self, X, y, ids):\n",
    "        self.X = torch.tensor(X, dtype=torch.float32)  # Séquences d'entrée\n",
    "        self.y = torch.tensor(y, dtype=torch.float32)  # Séquences de sortie\n",
    "        self.ids = torch.tensor(ids, dtype=torch.long)  # Identifiants (video_id, object_id)\n",
    "\n",
    "    def __len__(self):\n",
    "        return len(self.X)\n",
    "\n",
    "    def __getitem__(self, idx):\n",
    "        return {\n",
    "            'input': self.X[idx],\n",
    "            'target': self.y[idx],\n",
    "            'meta': self.ids[idx]  # Utilisation de 'meta' pour les identifiants\n",
    "        }"
   ]
  },
  {
   "attachments": {},
   "cell_type": "markdown",
   "metadata": {},
   "source": [
    "#### 4. conversion en tensor"
   ]
  },
  {
   "cell_type": "code",
   "execution_count": 6,
   "metadata": {},
   "outputs": [],
   "source": [
    "def convert_to_tensors(X_train, X_val, X_test, y_train, y_val, y_test, device='cpu'):\n",
    "    X_train_tensor = torch.tensor(X_train, dtype=torch.float32, device=device)\n",
    "    X_val_tensor = torch.tensor(X_val, dtype=torch.float32, device=device)\n",
    "    X_test_tensor = torch.tensor(X_test, dtype=torch.float32, device=device)\n",
    "    \n",
    "    y_train_tensor = torch.tensor(y_train, dtype=torch.float32, device=device)\n",
    "    y_val_tensor = torch.tensor(y_val, dtype=torch.float32, device=device)\n",
    "    y_test_tensor = torch.tensor(y_test, dtype=torch.float32, device=device)\n",
    "    \n",
    "    return X_train_tensor, X_val_tensor, X_test_tensor, y_train_tensor, y_val_tensor, y_test_tensor\n"
   ]
  },
  {
   "attachments": {},
   "cell_type": "markdown",
   "metadata": {},
   "source": [
    "#### 5. Creation du DataLoader"
   ]
  },
  {
   "cell_type": "code",
   "execution_count": 7,
   "metadata": {},
   "outputs": [],
   "source": [
    "def create_dataloaders(X_train, y_train, ids_train, X_val, y_val, ids_val, X_test, y_test, ids_test, batch_size=32):\n",
    "    # Creer des datasets PyTorch\n",
    "    train_dataset = VideoDataset(X_train, y_train, ids_train)\n",
    "    val_dataset = VideoDataset(X_val, y_val, ids_val)\n",
    "    test_dataset = VideoDataset(X_test, y_test, ids_test)\n",
    "    # Creer les dataLoader\n",
    "    train_loader = DataLoader(train_dataset, batch_size=batch_size, shuffle=True)\n",
    "    val_loader = DataLoader(val_dataset, batch_size=batch_size, shuffle=False)\n",
    "    test_loader = DataLoader(test_dataset, batch_size=batch_size, shuffle=False)\n",
    "    \n",
    "    return train_loader, val_loader, test_loader"
   ]
  },
  {
   "cell_type": "code",
   "execution_count": 8,
   "metadata": {},
   "outputs": [],
   "source": [
    "# Chargement des données\n",
    "input_file = '../data/annotations_transformers/input_sequences.csv'\n",
    "output_file = '../data/annotations_transformers/output_sequences.csv'\n"
   ]
  },
  {
   "cell_type": "code",
   "execution_count": 9,
   "metadata": {},
   "outputs": [],
   "source": [
    "# appliquer la fonction load_data\n",
    "input_sequences, output_sequences = load_data(input_file, output_file)\n"
   ]
  },
  {
   "cell_type": "code",
   "execution_count": 10,
   "metadata": {},
   "outputs": [],
   "source": [
    "# utiliser la fonction prepare_transformer_data pour diviser les données \n",
    "X_train, X_val, X_test, y_train, y_val, y_test, ids_train, ids_val, ids_test = prepare_transformer_data(\n",
    "    input_sequences, output_sequences\n",
    ")"
   ]
  },
  {
   "cell_type": "code",
   "execution_count": 11,
   "metadata": {},
   "outputs": [],
   "source": [
    "# convertir en tensor\n",
    "X_train_tensor, X_val_tensor, X_test_tensor, y_train_tensor, y_val_tensor, y_test_tensor = convert_to_tensors(\n",
    "    X_train, X_val, X_test, y_train, y_val, y_test, device\n",
    ")"
   ]
  },
  {
   "cell_type": "code",
   "execution_count": 12,
   "metadata": {},
   "outputs": [
    {
     "name": "stderr",
     "output_type": "stream",
     "text": [
      "C:\\Users\\h\\AppData\\Local\\Temp\\ipykernel_13808\\714682715.py:3: UserWarning: To copy construct from a tensor, it is recommended to use sourceTensor.clone().detach() or sourceTensor.clone().detach().requires_grad_(True), rather than torch.tensor(sourceTensor).\n",
      "  self.X = torch.tensor(X, dtype=torch.float32)  # Séquences d'entrée\n",
      "C:\\Users\\h\\AppData\\Local\\Temp\\ipykernel_13808\\714682715.py:4: UserWarning: To copy construct from a tensor, it is recommended to use sourceTensor.clone().detach() or sourceTensor.clone().detach().requires_grad_(True), rather than torch.tensor(sourceTensor).\n",
      "  self.y = torch.tensor(y, dtype=torch.float32)  # Séquences de sortie\n"
     ]
    }
   ],
   "source": [
    "# creer les dataloaders\n",
    "batch_size = 32\n",
    "train_loader, val_loader, test_loader = create_dataloaders(\n",
    "    X_train_tensor, y_train_tensor, ids_train,\n",
    "    X_val_tensor, y_val_tensor, ids_val,\n",
    "    X_test_tensor, y_test_tensor, ids_test,\n",
    "    batch_size=batch_size\n",
    ")"
   ]
  },
  {
   "attachments": {},
   "cell_type": "markdown",
   "metadata": {},
   "source": [
    "## Encodage positionnel\n",
    "<div style=\"border-bottom: 4px solid blue; margin-bottom: 20px;\"></div>\n"
   ]
  },
  {
   "cell_type": "code",
   "execution_count": 13,
   "metadata": {},
   "outputs": [],
   "source": [
    "def add_positional_encoding(data, sequence_length, d_model):\n",
    "    #crée un vecteur représentant chaque position dans la séquence.\n",
    "    position = torch.arange(sequence_length).unsqueeze(1).float()\n",
    "    div_term = torch.exp(torch.arange(0, d_model, 2) * (-torch.log(torch.tensor(10000.0)) / d_model))\n",
    "    #Creer de la matrice d’encodage positionnel\n",
    "    pos_encoding = torch.zeros(sequence_length, d_model)\n",
    "    pos_encoding[:, 0::2] = torch.sin(position * div_term)\n",
    "    pos_encoding[:, 1::2] = torch.cos(position * div_term)\n",
    "    return data + pos_encoding"
   ]
  },
  {
   "attachments": {},
   "cell_type": "markdown",
   "metadata": {},
   "source": [
    "## La classe *TransformerModel* combine LSTM et Transformer \n",
    "<div style=\"border-bottom: 4px solid blue; margin-bottom: 20px;\"></div>"
   ]
  },
  {
   "cell_type": "code",
   "execution_count": 14,
   "metadata": {},
   "outputs": [],
   "source": [
    "# Modèle Transformer amélioré\n",
    "class TransformerModel(nn.Module):\n",
    "    def __init__(self, input_dim, output_dim, d_model=128, nhead=8, num_encoder_layers=6, num_decoder_layers=6, dim_feedforward=2048, dropout=0.5):\n",
    "        super(TransformerModel, self).__init__()\n",
    "\n",
    "        self.d_model = d_model\n",
    "        \n",
    "        # Embeddings pour les entrées et les sorties\n",
    "        self.embedding = nn.Linear(input_dim, d_model)\n",
    "        self.output_embedding = nn.Linear(output_dim, d_model)\n",
    "        \n",
    "        # Encodeur LSTM pour capturer les dépendances temporelles\n",
    "        self.lstm_encoder = nn.LSTM(d_model, d_model, batch_first=True)\n",
    "        \n",
    "        # Encodeur Transformer\n",
    "        self.transformer_encoder = nn.TransformerEncoder(\n",
    "            nn.TransformerEncoderLayer(\n",
    "                d_model=d_model, \n",
    "                nhead=nhead, \n",
    "                dim_feedforward=dim_feedforward, \n",
    "                dropout=dropout\n",
    "            ), \n",
    "            num_layers=num_encoder_layers\n",
    "        )\n",
    "        \n",
    "        # Décodeur Transformer avec attention multi-têtes\n",
    "        self.transformer_decoder = nn.TransformerDecoder(\n",
    "            nn.TransformerDecoderLayer(\n",
    "                d_model=d_model, \n",
    "                nhead=nhead, \n",
    "                dim_feedforward=dim_feedforward, \n",
    "                dropout=dropout\n",
    "            ), \n",
    "            num_layers=num_decoder_layers\n",
    "        )\n",
    "        \n",
    "        # Tête de sortie\n",
    "        self.fc_out = nn.Linear(d_model, output_dim)\n",
    "        \n",
    "    def forward(self, src, tgt):\n",
    "        # Embedding des entrées et des sorties\n",
    "        src = self.embedding(src) * math.sqrt(self.d_model)\n",
    "        tgt = self.output_embedding(tgt) * math.sqrt(self.d_model)\n",
    "        \n",
    "        # Ajouter l'encodage positionnel\n",
    "        src = add_positional_encoding(src, src.size(0), self.d_model)\n",
    "        tgt = add_positional_encoding(tgt, tgt.size(0), self.d_model)\n",
    "        \n",
    "        # Passage à travers l'encodeur LSTM\n",
    "        lstm_out, _ = self.lstm_encoder(src)\n",
    "        \n",
    "        # Passage à travers l'encodeur Transformer\n",
    "        memory = self.transformer_encoder(lstm_out)\n",
    "        \n",
    "        # Passage à travers le décodeur Transformer\n",
    "        output = self.transformer_decoder(tgt, memory)\n",
    "        \n",
    "        # Sortie du modèle\n",
    "        output = self.fc_out(output)\n",
    "        \n",
    "        return output"
   ]
  },
  {
   "attachments": {},
   "cell_type": "markdown",
   "metadata": {},
   "source": [
    "#### Initialisation du modèle"
   ]
  },
  {
   "cell_type": "code",
   "execution_count": 15,
   "metadata": {},
   "outputs": [
    {
     "name": "stderr",
     "output_type": "stream",
     "text": [
      "c:\\Python312\\Lib\\site-packages\\torch\\nn\\modules\\transformer.py:307: UserWarning: enable_nested_tensor is True, but self.use_nested_tensor is False because encoder_layer.self_attn.batch_first was not True(use batch_first for better inference performance)\n",
      "  warnings.warn(f\"enable_nested_tensor is True, but self.use_nested_tensor is False because {why_not_sparsity_fast_path}\")\n"
     ]
    }
   ],
   "source": [
    "input_dim = X_train_tensor.shape[1]\n",
    "output_dim = y_train_tensor.shape[1]\n",
    "model = TransformerModel(input_dim, output_dim)\n"
   ]
  },
  {
   "attachments": {},
   "cell_type": "markdown",
   "metadata": {},
   "source": [
    "#### la fonction de perte et l'optimiseur"
   ]
  },
  {
   "cell_type": "code",
   "execution_count": 16,
   "metadata": {},
   "outputs": [],
   "source": [
    "criterion = nn.MSELoss()\n",
    "\n",
    "optimizer = optim.Adam(model.parameters(), lr=0.001, weight_decay=1e-5)"
   ]
  },
  {
   "attachments": {},
   "cell_type": "markdown",
   "metadata": {},
   "source": [
    "### Calcul de ADE et FDE "
   ]
  },
  {
   "cell_type": "code",
   "execution_count": 17,
   "metadata": {},
   "outputs": [],
   "source": [
    "def compute_ade_fde(predictions, targets):\n",
    "    #Calcul ADE (Average Displacement Error)\n",
    "    ade = torch.mean(torch.sqrt(torch.sum((predictions - targets) ** 2, dim=-1)))\n",
    "    #Calcul FDE (Final Displacement Error)\n",
    "    fde = torch.sqrt(torch.sum((predictions[:, -1] - targets[:, -1]) ** 2, dim=-1)).mean()\n",
    "    return ade.item(), fde.item()"
   ]
  },
  {
   "cell_type": "code",
   "execution_count": 18,
   "metadata": {},
   "outputs": [],
   "source": [
    "import matplotlib.pyplot as plt\n",
    "def plot_training_metrics(train_ade_list, train_fde_list, val_ade_list, val_fde_list):\n",
    "    epochs = range(1, len(train_ade_list) + 1)\n",
    "    \n",
    "    plt.figure(figsize=(10, 5))\n",
    "    \n",
    "    # Tracer ADE\n",
    "    plt.subplot(1, 2, 1)\n",
    "    plt.plot(epochs, train_ade_list, label='Train ADE', marker='o', linestyle='-')\n",
    "    plt.plot(epochs, val_ade_list, label='Validation ADE', marker='s', linestyle='--')\n",
    "    plt.xlabel('Epochs')\n",
    "    plt.ylabel('ADE')\n",
    "    plt.title('Évolution de lADE')\n",
    "    plt.legend()\n",
    "    plt.grid(True)\n",
    "    \n",
    "    # Tracer FDE\n",
    "    plt.subplot(1, 2, 2)\n",
    "    plt.plot(epochs, train_fde_list, label='Train FDE', marker='o', linestyle='-')\n",
    "    plt.plot(epochs, val_fde_list, label='Validation FDE', marker='s', linestyle='--')\n",
    "    plt.xlabel('Epochs')\n",
    "    plt.ylabel('FDE')\n",
    "    plt.title('Évolution du FDE')\n",
    "    plt.legend()\n",
    "    plt.grid(True)\n",
    "    \n",
    "    plt.tight_layout()\n",
    "    plt.show()"
   ]
  },
  {
   "attachments": {},
   "cell_type": "markdown",
   "metadata": {},
   "source": [
    "### Fonction de validation"
   ]
  },
  {
   "cell_type": "code",
   "execution_count": 19,
   "metadata": {},
   "outputs": [],
   "source": [
    "def validate(model, val_loader):\n",
    "    model.eval()\n",
    "    val_loss = 0.0\n",
    "    ade, fde = 0.0, 0.0\n",
    "    with torch.no_grad():\n",
    "        for batch in val_loader:\n",
    "            inputs = batch['input'].to(device)\n",
    "            targets = batch['target'].to(device)\n",
    "            \n",
    "            outputs = model(inputs, targets)\n",
    "            \n",
    "            loss = criterion(outputs.view(-1, output_dim), targets.view(-1, output_dim))\n",
    "            val_loss += loss.item()\n",
    "            \n",
    "            batch_ade, batch_fde = compute_ade_fde(outputs, targets)\n",
    "            ade += batch_ade\n",
    "            fde += batch_fde\n",
    "\n",
    "    val_loss /= len(val_loader)\n",
    "    ade /= len(val_loader)\n",
    "    fde /= len(val_loader)\n",
    "    \n",
    "    return val_loss, ade, fde"
   ]
  },
  {
   "attachments": {},
   "cell_type": "markdown",
   "metadata": {},
   "source": [
    "## Entraînement du Modele\n",
    "<div style=\"border-bottom: 4px solid blue; margin-bottom: 20px;\"></div>"
   ]
  },
  {
   "cell_type": "code",
   "execution_count": 20,
   "metadata": {},
   "outputs": [],
   "source": [
    "def train_model(model, train_loader, val_loader, epochs=10):\n",
    "    train_ade_list, train_fde_list = [], []\n",
    "    val_ade_list, val_fde_list = [], []\n",
    "    \n",
    "    for epoch in range(epochs):\n",
    "        model.train()\n",
    "        running_loss = 0.0\n",
    "        ade, fde = 0.0, 0.0\n",
    "\n",
    "        for batch in train_loader:\n",
    "            inputs = batch['input'].to(device)\n",
    "            targets = batch['target'].to(device)\n",
    "            \n",
    "            optimizer.zero_grad()\n",
    "            \n",
    "            outputs = model(inputs, targets)\n",
    "            \n",
    "            loss = criterion(outputs.view(-1, output_dim), targets.view(-1, output_dim))\n",
    "            loss.backward()\n",
    "            optimizer.step()\n",
    "            \n",
    "            running_loss += loss.item()\n",
    "            batch_ade, batch_fde = compute_ade_fde(outputs, targets)\n",
    "            ade += batch_ade\n",
    "            fde += batch_fde\n",
    "        \n",
    "        running_loss /= len(train_loader)\n",
    "        ade /= len(train_loader)\n",
    "        fde /= len(train_loader)\n",
    "        \n",
    "        val_loss, val_ade, val_fde = validate(model, val_loader)\n",
    "        \n",
    "        print(\"=\" * 50)\n",
    "        print(f\"🕒 Epoch {epoch+1}/{epochs}\")\n",
    "        print(\"-\" * 50)\n",
    "        print(f\"📉 Train Loss     : {running_loss:.4f}\")\n",
    "        print(f\"📍 Train ADE      : {ade:.4f}\")\n",
    "        print(f\"🎯 Train FDE      : {fde:.4f}\")\n",
    "\n",
    "        \n",
    "        train_ade_list.append(ade)\n",
    "        train_fde_list.append(fde)\n",
    "        val_ade_list.append(val_ade)\n",
    "        val_fde_list.append(val_fde)\n",
    "    \n",
    "    plot_training_metrics(train_ade_list, train_fde_list, val_ade_list, val_fde_list)\n"
   ]
  },
  {
   "cell_type": "code",
   "execution_count": 21,
   "metadata": {},
   "outputs": [
    {
     "name": "stdout",
     "output_type": "stream",
     "text": [
      "==================================================\n",
      "🕒 Epoch 1/10\n",
      "--------------------------------------------------\n",
      "📉 Train Loss     : 0.0467\n",
      "📍 Train ADE      : 0.7518\n",
      "🎯 Train FDE      : 0.3561\n",
      "==================================================\n",
      "🕒 Epoch 2/10\n",
      "--------------------------------------------------\n",
      "📉 Train Loss     : 0.0337\n",
      "📍 Train ADE      : 0.6434\n",
      "🎯 Train FDE      : 0.0938\n",
      "==================================================\n",
      "🕒 Epoch 3/10\n",
      "--------------------------------------------------\n",
      "📉 Train Loss     : 0.0056\n",
      "📍 Train ADE      : 0.2427\n",
      "🎯 Train FDE      : 0.0709\n",
      "==================================================\n",
      "🕒 Epoch 4/10\n",
      "--------------------------------------------------\n",
      "📉 Train Loss     : 0.0009\n",
      "📍 Train ADE      : 0.0900\n",
      "🎯 Train FDE      : 0.0203\n",
      "==================================================\n",
      "🕒 Epoch 5/10\n",
      "--------------------------------------------------\n",
      "📉 Train Loss     : 0.0003\n",
      "📍 Train ADE      : 0.0542\n",
      "🎯 Train FDE      : 0.0114\n",
      "==================================================\n",
      "🕒 Epoch 6/10\n",
      "--------------------------------------------------\n",
      "📉 Train Loss     : 0.0002\n",
      "📍 Train ADE      : 0.0406\n",
      "🎯 Train FDE      : 0.0078\n",
      "==================================================\n",
      "🕒 Epoch 7/10\n",
      "--------------------------------------------------\n",
      "📉 Train Loss     : 0.0001\n",
      "📍 Train ADE      : 0.0323\n",
      "🎯 Train FDE      : 0.0052\n",
      "==================================================\n",
      "🕒 Epoch 8/10\n",
      "--------------------------------------------------\n",
      "📉 Train Loss     : 0.0001\n",
      "📍 Train ADE      : 0.0287\n",
      "🎯 Train FDE      : 0.0046\n",
      "==================================================\n",
      "🕒 Epoch 9/10\n",
      "--------------------------------------------------\n",
      "📉 Train Loss     : 0.0001\n",
      "📍 Train ADE      : 0.0253\n",
      "🎯 Train FDE      : 0.0042\n",
      "==================================================\n",
      "🕒 Epoch 10/10\n",
      "--------------------------------------------------\n",
      "📉 Train Loss     : 0.0001\n",
      "📍 Train ADE      : 0.0223\n",
      "🎯 Train FDE      : 0.0041\n"
     ]
    },
    {
     "data": {
      "image/png": "[encoded data removed]",
      "text/plain": [
       "<Figure size 1000x500 with 2 Axes>"
      ]
     },
     "metadata": {},
     "output_type": "display_data"
    }
   ],
   "source": [
    "train_model(model, train_loader, val_loader, epochs=10)"
   ]
  },
  {
   "cell_type": "code",
   "execution_count": null,
   "metadata": {},
   "outputs": [],
   "source": [
    "import matplotlib.pyplot as plt\n",
    "\n",
    "# Fonction pour afficher les prédictions et les cibles\n",
    "def visualize_predictions(model, test_loader, num_samples=5):\n",
    "    model.eval()\n",
    "    with torch.no_grad():\n",
    "        for batch in test_loader:\n",
    "            inputs = batch['input'].to(device)\n",
    "            targets = batch['target'].to(device)\n",
    "            \n",
    "            # Prédictions du modèle\n",
    "            predictions = model(inputs, targets)\n",
    "            \n",
    "            # Sélectionner un sous-ensemble des données pour la visualisation\n",
    "            for i in range(num_samples):\n",
    "                plt.figure(figsize=(12, 6))\n",
    "\n",
    "                # Visualisation de la prédiction vs. la cible\n",
    "                plt.subplot(1, 2, 1)\n",
    "                plt.plot(targets[i].cpu().numpy(), label=\"Cible\", color='blue')\n",
    "                plt.plot(predictions[i].cpu().numpy(), label=\"Prédiction\", color='red')\n",
    "                plt.title(f\"Prédiction vs Cible (Échantillon {i+1})\")\n",
    "                plt.xlabel(\"Index de la Frame\")\n",
    "                plt.ylabel(\"Position\")\n",
    "                plt.legend()\n",
    "\n",
    "                plt.subplot(1, 2, 2)\n",
    "                plt.plot(targets[i].cpu().numpy(), label=\"Cible\", color='blue')\n",
    "                plt.title(f\"Cible (Échantillon {i+1})\")\n",
    "                plt.xlabel(\"Index de la Frame\")\n",
    "                plt.ylabel(\"Position\")\n",
    "\n",
    "                plt.tight_layout()\n",
    "                plt.show()\n",
    "            \n",
    "            break  # Ne visualiser qu'un lot\n",
    "\n",
    "# Appel de la fonction pour afficher les prédictions et cibles\n",
    "visualize_predictions(model, test_loader, num_samples=5)\n"
   ]
  },
  {
   "cell_type": "code",
   "execution_count": 22,
   "metadata": {},
   "outputs": [],
   "source": [
    "# Sauvegarder le modèle\n",
    "import torch\n",
    "torch.save(model.state_dict(), 'model.pth')\n"
   ]
  },
  {
   "cell_type": "code",
   "execution_count": 23,
   "metadata": {},
   "outputs": [],
   "source": [
    "\n",
    "torch.save({ \n",
    "    'model_state_dict': model.state_dict(),\n",
    "    'optimizer_state_dict': optimizer.state_dict(),  \n",
    "}, 'model_checkpoint.pth')\n"
   ]
  }
 ],
 "metadata": {
  "kernelspec": {
   "display_name": "Python 3",
   "language": "python",
   "name": "python3"
  },
  "language_info": {
   "codemirror_mode": {
    "name": "ipython",
    "version": 3
   },
   "file_extension": ".py",
   "mimetype": "text/x-python",
   "name": "python",
   "nbconvert_exporter": "python",
   "pygments_lexer": "ipython3",
   "version": "3.12.3"
  },
  "orig_nbformat": 4
 },
 "nbformat": 4,
 "nbformat_minor": 2
}
