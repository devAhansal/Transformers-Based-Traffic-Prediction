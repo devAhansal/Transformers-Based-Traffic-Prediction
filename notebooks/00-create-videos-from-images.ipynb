{
 "cells": [
  {
   "cell_type": "code",
   "execution_count": 27,
   "metadata": {
    "ExecuteTime": {
     "end_time": "2025-01-26T21:16:10.025732Z",
     "start_time": "2025-01-26T21:16:10.018424Z"
    }
   },
   "outputs": [],
   "source": [
    "import cv2\n",
    "import os"
   ]
  },
  {
   "cell_type": "code",
   "execution_count": 28,
   "metadata": {
    "ExecuteTime": {
     "end_time": "2025-01-26T21:16:10.055755Z",
     "start_time": "2025-01-26T21:16:10.048747Z"
    }
   },
   "outputs": [],
   "source": [
    "# Chemin du dossier contenant les frames\n",
    "frames_folder = \"../../sample_image/sample_image_9\"\n",
    "# Nom de la vidéo de sortie\n",
    "output_video = \"../run/videos/video9.mp4\""
   ]
  },
  {
   "cell_type": "code",
   "execution_count": 29,
   "metadata": {
    "ExecuteTime": {
     "end_time": "2025-01-26T21:16:10.092803Z",
     "start_time": "2025-01-26T21:16:10.080786Z"
    }
   },
   "outputs": [],
   "source": [
    "# Récupérer et trier la liste des fichiers par ordre numérique\n",
    "frames = sorted([f for f in os.listdir(frames_folder) if f.endswith(('.png', '.jpg', '.jpeg'))],\n",
    "                key=lambda x: int(os.path.splitext(x)[0]))  # Trier par le nom converti en entier"
   ]
  },
  {
   "cell_type": "code",
   "execution_count": 30,
   "metadata": {
    "ExecuteTime": {
     "end_time": "2025-01-26T21:16:10.127014Z",
     "start_time": "2025-01-26T21:16:10.119089Z"
    }
   },
   "outputs": [],
   "source": [
    "# Vérification qu'il y a des images\n",
    "if not frames:\n",
    "    print(\"Aucune image trouvée dans le dossier spécifié.\")\n",
    "    exit()"
   ]
  },
  {
   "cell_type": "code",
   "execution_count": 31,
   "metadata": {
    "ExecuteTime": {
     "end_time": "2025-01-26T21:16:10.186716Z",
     "start_time": "2025-01-26T21:16:10.144814Z"
    }
   },
   "outputs": [],
   "source": [
    "# Charger la première image pour récupérer la taille (largeur et hauteur)\n",
    "first_frame_path = os.path.join(frames_folder, frames[0])\n",
    "frame = cv2.imread(first_frame_path)\n",
    "height, width, layers = frame.shape"
   ]
  },
  {
   "cell_type": "code",
   "execution_count": 32,
   "metadata": {
    "ExecuteTime": {
     "end_time": "2025-01-26T21:16:10.220388Z",
     "start_time": "2025-01-26T21:16:10.206878Z"
    }
   },
   "outputs": [],
   "source": [
    "# Définir le codec et initialiser l'objet VideoWriter\n",
    "fourcc = cv2.VideoWriter_fourcc(*'mp4v')  # Codec pour MP4\n",
    "fps = 10  # Nombre d'images par seconde\n",
    "video = cv2.VideoWriter(output_video, fourcc, fps, (width, height))"
   ]
  },
  {
   "cell_type": "code",
   "execution_count": 33,
   "metadata": {
    "ExecuteTime": {
     "end_time": "2025-01-26T21:16:25.260975Z",
     "start_time": "2025-01-26T21:16:10.239437Z"
    }
   },
   "outputs": [],
   "source": [
    "# Parcourir les images triées et les ajouter à la vidéo\n",
    "for frame_name in frames:\n",
    "    frame_path = os.path.join(frames_folder, frame_name)\n",
    "    frame = cv2.imread(frame_path)\n",
    "    video.write(frame)"
   ]
  },
  {
   "cell_type": "code",
   "execution_count": 34,
   "metadata": {
    "ExecuteTime": {
     "end_time": "2025-01-26T21:16:25.274976Z",
     "start_time": "2025-01-26T21:16:25.270750Z"
    },
    "execution": {
     "iopub.execute_input": "2025-01-19T14:39:11.588135Z",
     "iopub.status.busy": "2025-01-19T14:39:11.587788Z",
     "iopub.status.idle": "2025-01-19T14:39:36.965178Z",
     "shell.execute_reply": "2025-01-19T14:39:36.964332Z",
     "shell.execute_reply.started": "2025-01-19T14:39:11.588108Z"
    },
    "trusted": true
   },
   "outputs": [
    {
     "name": "stdout",
     "output_type": "stream",
     "text": [
      "Vidéo créée avec succès : ../run/videos/video9.mp4\n"
     ]
    }
   ],
   "source": [
    "# Libérer les ressources\n",
    "video.release()\n",
    "print(f\"Vidéo créée avec succès : {output_video}\")\n"
   ]
  },
  {
   "cell_type": "code",
   "execution_count": null,
   "metadata": {
    "ExecuteTime": {
     "end_time": "2025-01-26T21:16:25.373005Z",
     "start_time": "2025-01-26T21:16:25.369828Z"
    }
   },
   "outputs": [],
   "source": []
  }
 ],
 "metadata": {
  "kaggle": {
   "accelerator": "gpu",
   "dataSources": [
    {
     "datasetId": 2231353,
     "sourceId": 3731962,
     "sourceType": "datasetVersion"
    },
    {
     "datasetId": 6475245,
     "sourceId": 10459544,
     "sourceType": "datasetVersion"
    },
    {
     "datasetId": 6508685,
     "sourceId": 10515219,
     "sourceType": "datasetVersion"
    },
    {
     "datasetId": 6509245,
     "sourceId": 10516128,
     "sourceType": "datasetVersion"
    }
   ],
   "dockerImageVersionId": 30840,
   "isGpuEnabled": true,
   "isInternetEnabled": true,
   "language": "python",
   "sourceType": "notebook"
  },
  "kernelspec": {
   "display_name": ".venv",
   "language": "python",
   "name": "python3"
  },
  "language_info": {
   "codemirror_mode": {
    "name": "ipython",
    "version": 3
   },
   "file_extension": ".py",
   "mimetype": "text/x-python",
   "name": "python",
   "nbconvert_exporter": "python",
   "pygments_lexer": "ipython3",
   "version": "3.12.4"
  }
 },
 "nbformat": 4,
 "nbformat_minor": 4
}
